{
 "cells": [
  {
   "cell_type": "code",
   "execution_count": 1,
   "metadata": {},
   "outputs": [
    {
     "name": "stdout",
     "output_type": "stream",
     "text": [
      "File already exists:\n",
      "\tc:\\users\\laksh_000\\documents\\github\\dlibmodels\\dlib_models\\dlib_face_recognition_resnet_model_v1.dat\n",
      "File already exists:\n",
      "\tc:\\users\\laksh_000\\documents\\github\\dlibmodels\\dlib_models\\shape_predictor_68_face_landmarks.dat\n"
     ]
    }
   ],
   "source": [
    "import main"
   ]
  },
  {
   "cell_type": "code",
   "execution_count": null,
   "metadata": {
    "scrolled": true
   },
   "outputs": [
    {
     "name": "stdout",
     "output_type": "stream",
     "text": [
      "No camera config found, using defaults\n",
      "\t port=0, exposure=0.7\n",
      "(128,) (128,)\n",
      "0.391767708209\n",
      "(128,) (128,)\n",
      "0.421575381482\n",
      "(128,) (128,)\n",
      "0.458236537605\n",
      "(128,) (128,)\n",
      "0.746921379452\n"
     ]
    }
   ],
   "source": [
    "main.recognition()"
   ]
  },
  {
   "cell_type": "code",
   "execution_count": null,
   "metadata": {},
   "outputs": [],
   "source": []
  },
  {
   "cell_type": "code",
   "execution_count": null,
   "metadata": {},
   "outputs": [],
   "source": []
  }
 ],
 "metadata": {
  "kernelspec": {
   "display_name": "Python 3",
   "language": "python",
   "name": "python3"
  },
  "language_info": {
   "codemirror_mode": {
    "name": "ipython",
    "version": 3
   },
   "file_extension": ".py",
   "mimetype": "text/x-python",
   "name": "python",
   "nbconvert_exporter": "python",
   "pygments_lexer": "ipython3",
   "version": "3.6.8"
  }
 },
 "nbformat": 4,
 "nbformat_minor": 2
}
