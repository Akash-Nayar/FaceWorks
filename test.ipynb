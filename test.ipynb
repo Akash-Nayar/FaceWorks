{
 "cells": [
  {
   "cell_type": "code",
   "execution_count": 1,
   "metadata": {},
   "outputs": [
    {
     "name": "stdout",
     "output_type": "stream",
     "text": [
      "File already exists:\n",
      "\tc:\\users\\laksh_000\\documents\\github\\dlibmodels\\dlib_models\\dlib_face_recognition_resnet_model_v1.dat\n",
      "File already exists:\n",
      "\tc:\\users\\laksh_000\\documents\\github\\dlibmodels\\dlib_models\\shape_predictor_68_face_landmarks.dat\n"
     ]
    }
   ],
   "source": [
    "import main"
   ]
  },
  {
   "cell_type": "code",
   "execution_count": 3,
   "metadata": {
    "scrolled": true
   },
   "outputs": [
    {
     "name": "stdout",
     "output_type": "stream",
     "text": [
      "No camera config found, using defaults\n",
      "\t port=0, exposure=0.7\n",
      "(128,) (128,)\n",
      "0.59661606153\n",
      "(128,) (128,)\n",
      "0.555925711465\n",
      "(128,) (128,)\n",
      "0.576891528463\n",
      "(128,) (128,)\n",
      "0.157827424472\n"
     ]
    },
    {
     "data": {
      "text/plain": [
       "'Sydney Karimi'"
      ]
     },
     "execution_count": 3,
     "metadata": {},
     "output_type": "execute_result"
    }
   ],
   "source": [
    "main.recognition()"
   ]
  },
  {
   "cell_type": "code",
   "execution_count": null,
   "metadata": {},
   "outputs": [],
   "source": []
  },
  {
   "cell_type": "code",
   "execution_count": null,
   "metadata": {},
   "outputs": [],
   "source": []
  }
 ],
 "metadata": {
  "kernelspec": {
   "display_name": "Python 3",
   "language": "python",
   "name": "python3"
  },
  "language_info": {
   "codemirror_mode": {
    "name": "ipython",
    "version": 3
   },
   "file_extension": ".py",
   "mimetype": "text/x-python",
   "name": "python",
   "nbconvert_exporter": "python",
   "pygments_lexer": "ipython3",
   "version": "3.6.8"
  }
 },
 "nbformat": 4,
 "nbformat_minor": 2
}
